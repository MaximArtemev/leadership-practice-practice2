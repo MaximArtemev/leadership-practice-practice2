{
 "cells": [
  {
   "cell_type": "code",
   "execution_count": 1,
   "metadata": {},
   "outputs": [],
   "source": [
    "import pandas as pd\n",
    "import numpy as np\n",
    "import matplotlib.pyplot as plt\n",
    "%matplotlib inline"
   ]
  },
  {
   "cell_type": "code",
   "execution_count": 2,
   "metadata": {},
   "outputs": [],
   "source": [
    "posts = pd.read_csv('../data/posts.csv')\n",
    "users = pd.read_csv('../data/users_train.csv')\n",
    "users_test = pd.read_csv('../data/users_test.csv')\n",
    "friends = pd.read_csv('../data/friends.csv')"
   ]
  },
  {
   "cell_type": "code",
   "execution_count": 3,
   "metadata": {},
   "outputs": [],
   "source": [
    "from sklearn.feature_extraction.text import TfidfVectorizer\n",
    "from sklearn.linear_model import LogisticRegression\n",
    "\n",
    "\n",
    "def train(users, posts):\n",
    "    valid_users = np.unique(users['uid'])\n",
    "    posts = posts[posts['from_id'].isin(valid_users)]\n",
    "    posts['text'] = posts['text'].apply(str)\n",
    "    data = posts.groupby(['from_id'], sort=True).agg({'text': ' '.join,\n",
    "                                                      'comments': 'sum',\n",
    "                                                      'likes': 'sum',\n",
    "                                                      'reposts': 'sum'})\n",
    "    users.index = users.uid\n",
    "    users.drop('uid', axis=1, inplace=True)\n",
    "    data['is_leader'] = users.loc[data.index]['is_leader']\n",
    "    X = data.drop('is_leader', axis=1)\n",
    "    Y = data['is_leader'].values\n",
    "    \n",
    "    tfidf = TfidfVectorizer()\n",
    "    model = LogisticRegression()\n",
    "\n",
    "    model.fit(tfidf.fit_transform(X['text']), Y)\n",
    "    return model, tfidf"
   ]
  },
  {
   "cell_type": "code",
   "execution_count": 4,
   "metadata": {},
   "outputs": [],
   "source": [
    "def predict(users, posts, model, tfidf):\n",
    "    valid_users = np.unique(users['uid'])\n",
    "    posts = posts[posts['from_id'].isin(valid_users)]\n",
    "    posts['text'] = posts['text'].apply(str)\n",
    "    data = posts.groupby(['from_id'], sort=True).agg({'text': ' '.join,\n",
    "                                                      'comments': 'sum',\n",
    "                                                      'likes': 'sum',\n",
    "                                                      'reposts': 'sum'})\n",
    "    users.index = users.uid\n",
    "    users.drop('uid', axis=1, inplace=True)\n",
    "    return model.predict(tfidf.transform(data['text']))"
   ]
  },
  {
   "cell_type": "code",
   "execution_count": 5,
   "metadata": {},
   "outputs": [
    {
     "name": "stderr",
     "output_type": "stream",
     "text": [
      "/Users/max/anaconda/lib/python3.6/site-packages/ipykernel_launcher.py:8: SettingWithCopyWarning: \n",
      "A value is trying to be set on a copy of a slice from a DataFrame.\n",
      "Try using .loc[row_indexer,col_indexer] = value instead\n",
      "\n",
      "See the caveats in the documentation: http://pandas.pydata.org/pandas-docs/stable/indexing.html#indexing-view-versus-copy\n",
      "  \n"
     ]
    }
   ],
   "source": [
    "model, tfidf = train(users.copy(), posts.copy())"
   ]
  },
  {
   "cell_type": "code",
   "execution_count": 6,
   "metadata": {},
   "outputs": [
    {
     "name": "stderr",
     "output_type": "stream",
     "text": [
      "/Users/max/anaconda/lib/python3.6/site-packages/ipykernel_launcher.py:4: SettingWithCopyWarning: \n",
      "A value is trying to be set on a copy of a slice from a DataFrame.\n",
      "Try using .loc[row_indexer,col_indexer] = value instead\n",
      "\n",
      "See the caveats in the documentation: http://pandas.pydata.org/pandas-docs/stable/indexing.html#indexing-view-versus-copy\n",
      "  after removing the cwd from sys.path.\n"
     ]
    }
   ],
   "source": [
    "preds = predict(users_test.copy(), posts.copy(), model, tfidf)"
   ]
  },
  {
   "cell_type": "code",
   "execution_count": 9,
   "metadata": {},
   "outputs": [],
   "source": [
    "# submission = pd.DataFrame({'is_leader':preds}, index=X.index)\n",
    "\n",
    "# submission.to_csv('../data/train_submission.csv')"
   ]
  },
  {
   "cell_type": "code",
   "execution_count": null,
   "metadata": {},
   "outputs": [],
   "source": []
  },
  {
   "cell_type": "code",
   "execution_count": null,
   "metadata": {},
   "outputs": [],
   "source": []
  },
  {
   "cell_type": "code",
   "execution_count": null,
   "metadata": {},
   "outputs": [],
   "source": []
  }
 ],
 "metadata": {
  "kernelspec": {
   "display_name": "Python 3",
   "language": "python",
   "name": "python3"
  },
  "language_info": {
   "codemirror_mode": {
    "name": "ipython",
    "version": 3
   },
   "file_extension": ".py",
   "mimetype": "text/x-python",
   "name": "python",
   "nbconvert_exporter": "python",
   "pygments_lexer": "ipython3",
   "version": "3.6.6"
  }
 },
 "nbformat": 4,
 "nbformat_minor": 2
}
